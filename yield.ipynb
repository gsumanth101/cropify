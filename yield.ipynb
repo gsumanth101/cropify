{
 "cells": [
  {
   "cell_type": "code",
   "execution_count": 1,
   "metadata": {},
   "outputs": [],
   "source": [
    "import numpy as np\n",
    "import matplotlib.pyplot as plt\n",
    "import pandas as pd\n",
    "\n",
    "data = pd.read_csv('crops.csv')"
   ]
  },
  {
   "cell_type": "code",
   "execution_count": 2,
   "metadata": {},
   "outputs": [
    {
     "data": {
      "text/html": [
       "<div>\n",
       "<style scoped>\n",
       "    .dataframe tbody tr th:only-of-type {\n",
       "        vertical-align: middle;\n",
       "    }\n",
       "\n",
       "    .dataframe tbody tr th {\n",
       "        vertical-align: top;\n",
       "    }\n",
       "\n",
       "    .dataframe thead th {\n",
       "        text-align: right;\n",
       "    }\n",
       "</style>\n",
       "<table border=\"1\" class=\"dataframe\">\n",
       "  <thead>\n",
       "    <tr style=\"text-align: right;\">\n",
       "      <th></th>\n",
       "      <th>Soil_color</th>\n",
       "      <th>Nitrogen</th>\n",
       "      <th>Phosphorus</th>\n",
       "      <th>Potassium</th>\n",
       "      <th>Rainfall</th>\n",
       "      <th>Temperature</th>\n",
       "      <th>Crop</th>\n",
       "      <th>Fertilizer</th>\n",
       "    </tr>\n",
       "  </thead>\n",
       "  <tbody>\n",
       "    <tr>\n",
       "      <th>0</th>\n",
       "      <td>Black</td>\n",
       "      <td>75</td>\n",
       "      <td>50</td>\n",
       "      <td>100</td>\n",
       "      <td>1000</td>\n",
       "      <td>20</td>\n",
       "      <td>Sugarcane</td>\n",
       "      <td>Urea</td>\n",
       "    </tr>\n",
       "    <tr>\n",
       "      <th>1</th>\n",
       "      <td>Black</td>\n",
       "      <td>80</td>\n",
       "      <td>50</td>\n",
       "      <td>100</td>\n",
       "      <td>1000</td>\n",
       "      <td>20</td>\n",
       "      <td>Sugarcane</td>\n",
       "      <td>Urea</td>\n",
       "    </tr>\n",
       "    <tr>\n",
       "      <th>2</th>\n",
       "      <td>Black</td>\n",
       "      <td>85</td>\n",
       "      <td>50</td>\n",
       "      <td>100</td>\n",
       "      <td>1000</td>\n",
       "      <td>20</td>\n",
       "      <td>Sugarcane</td>\n",
       "      <td>Urea</td>\n",
       "    </tr>\n",
       "    <tr>\n",
       "      <th>3</th>\n",
       "      <td>Black</td>\n",
       "      <td>90</td>\n",
       "      <td>50</td>\n",
       "      <td>100</td>\n",
       "      <td>1000</td>\n",
       "      <td>20</td>\n",
       "      <td>Sugarcane</td>\n",
       "      <td>Urea</td>\n",
       "    </tr>\n",
       "    <tr>\n",
       "      <th>4</th>\n",
       "      <td>Black</td>\n",
       "      <td>95</td>\n",
       "      <td>50</td>\n",
       "      <td>100</td>\n",
       "      <td>1000</td>\n",
       "      <td>20</td>\n",
       "      <td>Sugarcane</td>\n",
       "      <td>Urea</td>\n",
       "    </tr>\n",
       "  </tbody>\n",
       "</table>\n",
       "</div>"
      ],
      "text/plain": [
       "  Soil_color  Nitrogen  Phosphorus  Potassium  Rainfall  Temperature  \\\n",
       "0      Black        75          50        100      1000           20   \n",
       "1      Black        80          50        100      1000           20   \n",
       "2      Black        85          50        100      1000           20   \n",
       "3      Black        90          50        100      1000           20   \n",
       "4      Black        95          50        100      1000           20   \n",
       "\n",
       "        Crop Fertilizer  \n",
       "0  Sugarcane       Urea  \n",
       "1  Sugarcane       Urea  \n",
       "2  Sugarcane       Urea  \n",
       "3  Sugarcane       Urea  \n",
       "4  Sugarcane       Urea  "
      ]
     },
     "execution_count": 2,
     "metadata": {},
     "output_type": "execute_result"
    }
   ],
   "source": [
    "data.head()"
   ]
  },
  {
   "cell_type": "code",
   "execution_count": 3,
   "metadata": {},
   "outputs": [
    {
     "data": {
      "text/plain": [
       "Soil_color     0\n",
       "Nitrogen       0\n",
       "Phosphorus     0\n",
       "Potassium      0\n",
       "Rainfall       0\n",
       "Temperature    0\n",
       "Crop           0\n",
       "Fertilizer     0\n",
       "dtype: int64"
      ]
     },
     "execution_count": 3,
     "metadata": {},
     "output_type": "execute_result"
    }
   ],
   "source": [
    "data.isnull().sum()"
   ]
  },
  {
   "cell_type": "code",
   "execution_count": 5,
   "metadata": {},
   "outputs": [
    {
     "data": {
      "text/plain": [
       "(4513, 8)"
      ]
     },
     "execution_count": 5,
     "metadata": {},
     "output_type": "execute_result"
    }
   ],
   "source": [
    "data.shape"
   ]
  },
  {
   "cell_type": "code",
   "execution_count": 6,
   "metadata": {},
   "outputs": [
    {
     "name": "stdout",
     "output_type": "stream",
     "text": [
      "   Soil_color  Nitrogen  Phosphorus  Potassium  Rainfall  Temperature  Crop  \\\n",
      "0           1        75          50        100      1000           20    11   \n",
      "1           1        80          50        100      1000           20    11   \n",
      "2           1        85          50        100      1000           20    11   \n",
      "3           1        90          50        100      1000           20    11   \n",
      "4           1        95          50        100      1000           20    11   \n",
      "\n",
      "   Fertilizer  \n",
      "0          18  \n",
      "1          18  \n",
      "2          18  \n",
      "3          18  \n",
      "4          18  \n",
      "\n",
      "Mappings:\n",
      "\n",
      "Soil_color: {0: 'Alluvial', 1: 'Black', 2: 'Clay soil', 3: 'Red', 4: 'Red ', 5: 'Reddish Brown'}\n",
      "Crop: {0: 'Cotton', 1: 'Ginger', 2: 'Gram', 3: 'Grapes', 4: 'Groundnut', 5: 'Jowar', 6: 'Maize', 7: 'Masoor', 8: 'Moong', 9: 'Rice', 10: 'Soybean', 11: 'Sugarcane', 12: 'Tur', 13: 'Turmeric', 14: 'Urad', 15: 'Wheat'}\n",
      "Fertilizer: {0: ' NPK', 1: '10:10:10 NPK', 2: '10:26:26 NPK', 3: '12:32:16 NPK', 4: '13:32:26 NPK', 5: '18:46:00 NPK', 6: '19:19:19 NPK', 7: '20:20:20 NPK', 8: '50:26:26 NPK', 9: 'Ammonium Sulphate', 10: 'Chilated Micronutrient', 11: 'DAP', 12: 'Ferrous Sulphate', 13: 'Hydrated Lime', 14: 'MOP', 15: 'Magnesium Sulphate', 16: 'SSP', 17: 'Sulphur', 18: 'Urea', 19: 'White Potash'}\n"
     ]
    }
   ],
   "source": [
    "mappings = {}\n",
    "\n",
    "for column in data.select_dtypes(include=['object']).columns:\n",
    "    data[column] = data[column].astype('category')\n",
    "    mappings[column] = dict(enumerate(data[column].cat.categories))\n",
    "    data[column] = data[column].cat.codes\n",
    "\n",
    "print(data.head())\n",
    "print(\"\\nMappings:\\n\")\n",
    "for column, mapping in mappings.items():\n",
    "    print(f\"{column}: {mapping}\")"
   ]
  },
  {
   "cell_type": "code",
   "execution_count": 7,
   "metadata": {},
   "outputs": [
    {
     "name": "stdout",
     "output_type": "stream",
     "text": [
      "(3610, 7) (903, 7) (3610,) (903,)\n"
     ]
    }
   ],
   "source": []
  },
  {
   "cell_type": "code",
   "execution_count": null,
   "metadata": {},
   "outputs": [],
   "source": []
  },
  {
   "cell_type": "code",
   "execution_count": 11,
   "metadata": {},
   "outputs": [],
   "source": [
    "x = data[['Soil_color', 'Rainfall', 'Temperature']]\n",
    "y_nitro = data['Nitrogen']\n",
    "y_phos = data['Phosphorus']\n",
    "y_pot = data['Potassium']\n",
    "y_fert = data['Fertilizer']"
   ]
  },
  {
   "cell_type": "code",
   "execution_count": null,
   "metadata": {},
   "outputs": [],
   "source": [
    "from sklearn.model_selection import train_test_split\n",
    "x_train, x_test, y_train, y_test = train_test_split(data.drop('Crop', axis=1), data['Crop'], test_size=0.2, random_state=42)\n",
    "print(x_train.shape, x_test.shape, y_train.shape, y_test.shape)"
   ]
  },
  {
   "cell_type": "code",
   "execution_count": 15,
   "metadata": {},
   "outputs": [
    {
     "name": "stdout",
     "output_type": "stream",
     "text": [
      "Pipeline(steps=[('standardscaler', StandardScaler()),\n",
      "                ('linearregression', LinearRegression())]) : 0.114768383278681\n",
      "Pipeline(steps=[('standardscaler', StandardScaler()),\n",
      "                ('decisiontreeregressor', DecisionTreeRegressor())]) : 0.5837574460095003\n",
      "___________________________________________________________________________________________________________________\n",
      "Best Regressor: Pipeline(steps=[('standardscaler', StandardScaler()),\n",
      "                ('decisiontreeregressor', DecisionTreeRegressor())])\n",
      "Best MSE: 602.8407461801172\n",
      "Best R2: 0.5837574460095003\n"
     ]
    }
   ],
   "source": [
    "from sklearn.model_selection import train_test_split\n",
    "from sklearn.metrics import mean_squared_error\n",
    "from sklearn.preprocessing import StandardScaler\n",
    "from sklearn.pipeline import make_pipeline\n",
    "from sklearn.linear_model import LinearRegression, Ridge, Lasso\n",
    "from sklearn.tree import DecisionTreeRegressor\n",
    "from sklearn.ensemble import RandomForestRegressor, GradientBoostingRegressor\n",
    "from sklearn.svm import SVR\n",
    "from sklearn.metrics import *\n",
    "\n",
    "\n",
    "model_nitro = [\n",
    "    make_pipeline(StandardScaler(), LinearRegression()),\n",
    "    make_pipeline(StandardScaler(), Ridge()),\n",
    "    make_pipeline(StandardScaler(), Lasso()),\n",
    "    make_pipeline(StandardScaler(), DecisionTreeRegressor()),\n",
    "    make_pipeline(StandardScaler(), RandomForestRegressor()),\n",
    "    make_pipeline(StandardScaler(), GradientBoostingRegressor()),\n",
    "    make_pipeline(StandardScaler(), SVR())\n",
    "]\n",
    "\n",
    "\n",
    "best_mse = float('inf')\n",
    "best_r2 = 0\n",
    "best_regressor = None\n",
    "for model_nitro in model_nitro:\n",
    "    model_nitro.fit(x, y_nitro)\n",
    "    predictions = model_nitro.predict(x)\n",
    "    mse = mean_squared_error(y_nitro, predictions)\n",
    "    r2 = r2_score(y_nitro, predictions)\n",
    "    if mse < best_mse:\n",
    "        best_mse = mse\n",
    "        best_regressor = model_nitro\n",
    "        best_r2 = r2\n",
    "        print(best_regressor, \":\",best_r2)\n",
    "\n",
    "print(\"___________________________________________________________________________________________________________________\")\n",
    "print(f\"Best Regressor: {best_regressor}\")\n",
    "print(f\"Best MSE: {best_mse}\")\n",
    "print(f\"Best R2: {best_r2}\")\n",
    "\n",
    "import pickle\n",
    "with open('model_nitro.pkl', 'wb') as file:\n",
    "    pickle.dump(best_regressor, file)"
   ]
  },
  {
   "cell_type": "code",
   "execution_count": 16,
   "metadata": {},
   "outputs": [
    {
     "name": "stdout",
     "output_type": "stream",
     "text": [
      "Pipeline(steps=[('standardscaler', StandardScaler()),\n",
      "                ('linearregression', LinearRegression())]) : 0.07537444728521481\n",
      "Pipeline(steps=[('standardscaler', StandardScaler()),\n",
      "                ('decisiontreeregressor', DecisionTreeRegressor())]) : 0.5185595797008713\n",
      "___________________________________________________________________________________________________________________\n",
      "Best Regressor: Pipeline(steps=[('standardscaler', StandardScaler()),\n",
      "                ('decisiontreeregressor', DecisionTreeRegressor())])\n",
      "Best MSE: 131.87023782583648\n",
      "Best R2: 0.5185595797008713\n"
     ]
    }
   ],
   "source": [
    "from sklearn.model_selection import train_test_split\n",
    "from sklearn.metrics import mean_squared_error\n",
    "from sklearn.preprocessing import StandardScaler\n",
    "from sklearn.pipeline import make_pipeline\n",
    "from sklearn.linear_model import LinearRegression, Ridge, Lasso\n",
    "from sklearn.tree import DecisionTreeRegressor\n",
    "from sklearn.ensemble import RandomForestRegressor, GradientBoostingRegressor\n",
    "from sklearn.svm import SVR\n",
    "from sklearn.metrics import *\n",
    "\n",
    "\n",
    "model_phos = [\n",
    "    make_pipeline(StandardScaler(), LinearRegression()),\n",
    "    make_pipeline(StandardScaler(), Ridge()),\n",
    "    make_pipeline(StandardScaler(), Lasso()),\n",
    "    make_pipeline(StandardScaler(), DecisionTreeRegressor()),\n",
    "    make_pipeline(StandardScaler(), RandomForestRegressor()),\n",
    "    make_pipeline(StandardScaler(), GradientBoostingRegressor()),\n",
    "    make_pipeline(StandardScaler(), SVR())\n",
    "]\n",
    "\n",
    "\n",
    "best_mse = float('inf')\n",
    "best_r2 = 0\n",
    "best_regressor = None\n",
    "for model_phos in model_phos:\n",
    "    model_phos.fit(x, y_phos)\n",
    "    predictions = model_phos.predict(x)\n",
    "    mse = mean_squared_error(y_phos, predictions)\n",
    "    r2 = r2_score(y_phos, predictions)\n",
    "    if mse < best_mse:\n",
    "        best_mse = mse\n",
    "        best_regressor = model_phos\n",
    "        best_r2 = r2\n",
    "        print(best_regressor, \":\",best_r2)\n",
    "\n",
    "print(\"___________________________________________________________________________________________________________________\")\n",
    "print(f\"Best Regressor: {best_regressor}\")\n",
    "print(f\"Best MSE: {best_mse}\")\n",
    "print(f\"Best R2: {best_r2}\")\n",
    "\n",
    "import pickle\n",
    "with open('model_phos.pkl', 'wb') as file:\n",
    "    pickle.dump(best_regressor, file)"
   ]
  },
  {
   "cell_type": "code",
   "execution_count": 17,
   "metadata": {},
   "outputs": [
    {
     "name": "stdout",
     "output_type": "stream",
     "text": [
      "Pipeline(steps=[('standardscaler', StandardScaler()),\n",
      "                ('linearregression', LinearRegression())]) : 0.21008154414824887\n",
      "Pipeline(steps=[('standardscaler', StandardScaler()),\n",
      "                ('decisiontreeregressor', DecisionTreeRegressor())]) : 0.7068824962799305\n",
      "___________________________________________________________________________________________________________________\n",
      "Best Regressor: Pipeline(steps=[('standardscaler', StandardScaler()),\n",
      "                ('decisiontreeregressor', DecisionTreeRegressor())])\n",
      "Best MSE: 373.3233232084687\n",
      "Best R2: 0.7068824962799305\n"
     ]
    }
   ],
   "source": [
    "from sklearn.model_selection import train_test_split\n",
    "from sklearn.metrics import mean_squared_error\n",
    "from sklearn.preprocessing import StandardScaler\n",
    "from sklearn.pipeline import make_pipeline\n",
    "from sklearn.linear_model import LinearRegression, Ridge, Lasso\n",
    "from sklearn.tree import DecisionTreeRegressor\n",
    "from sklearn.ensemble import RandomForestRegressor, GradientBoostingRegressor\n",
    "from sklearn.svm import SVR\n",
    "from sklearn.metrics import *\n",
    "\n",
    "\n",
    "model_pot = [\n",
    "    make_pipeline(StandardScaler(), LinearRegression()),\n",
    "    make_pipeline(StandardScaler(), Ridge()),\n",
    "    make_pipeline(StandardScaler(), Lasso()),\n",
    "    make_pipeline(StandardScaler(), DecisionTreeRegressor()),\n",
    "    make_pipeline(StandardScaler(), RandomForestRegressor()),\n",
    "    make_pipeline(StandardScaler(), GradientBoostingRegressor()),\n",
    "    make_pipeline(StandardScaler(), SVR())\n",
    "]\n",
    "\n",
    "\n",
    "best_mse = float('inf')\n",
    "best_r2 = 0\n",
    "best_regressor = None\n",
    "for model_pot in model_pot:\n",
    "    model_pot.fit(x, y_pot)\n",
    "    predictions = model_pot.predict(x)\n",
    "    mse = mean_squared_error(y_pot, predictions)\n",
    "    r2 = r2_score(y_pot, predictions)\n",
    "    if mse < best_mse:\n",
    "        best_mse = mse\n",
    "        best_regressor = model_pot\n",
    "        best_r2 = r2\n",
    "        print(best_regressor, \":\",best_r2)\n",
    "\n",
    "print(\"___________________________________________________________________________________________________________________\")\n",
    "print(f\"Best Regressor: {best_regressor}\")\n",
    "print(f\"Best MSE: {best_mse}\")\n",
    "print(f\"Best R2: {best_r2}\")\n",
    "\n",
    "import pickle\n",
    "with open('model_pot.pkl', 'wb') as file:\n",
    "    pickle.dump(best_regressor, file)"
   ]
  },
  {
   "cell_type": "code",
   "execution_count": 18,
   "metadata": {},
   "outputs": [
    {
     "name": "stdout",
     "output_type": "stream",
     "text": [
      "Pipeline(steps=[('standardscaler', StandardScaler()),\n",
      "                ('linearregression', LinearRegression())]) : 0.022914936507134498\n",
      "Pipeline(steps=[('standardscaler', StandardScaler()),\n",
      "                ('decisiontreeregressor', DecisionTreeRegressor())]) : 0.19623865301571597\n",
      "___________________________________________________________________________________________________________________\n",
      "Best Regressor: Pipeline(steps=[('standardscaler', StandardScaler()),\n",
      "                ('decisiontreeregressor', DecisionTreeRegressor())])\n",
      "Best MSE: 20.310789622019723\n",
      "Best R2: 0.19623865301571597\n"
     ]
    }
   ],
   "source": [
    "from sklearn.model_selection import train_test_split\n",
    "from sklearn.metrics import mean_squared_error\n",
    "from sklearn.preprocessing import StandardScaler\n",
    "from sklearn.pipeline import make_pipeline\n",
    "from sklearn.linear_model import LinearRegression, Ridge, Lasso\n",
    "from sklearn.tree import DecisionTreeRegressor\n",
    "from sklearn.ensemble import RandomForestRegressor, GradientBoostingRegressor\n",
    "from sklearn.svm import SVR\n",
    "from sklearn.metrics import *\n",
    "\n",
    "\n",
    "model_fert = [\n",
    "    make_pipeline(StandardScaler(), LinearRegression()),\n",
    "    make_pipeline(StandardScaler(), Ridge()),\n",
    "    make_pipeline(StandardScaler(), Lasso()),\n",
    "    make_pipeline(StandardScaler(), DecisionTreeRegressor()),\n",
    "    make_pipeline(StandardScaler(), RandomForestRegressor()),\n",
    "    make_pipeline(StandardScaler(), GradientBoostingRegressor()),\n",
    "    make_pipeline(StandardScaler(), SVR())\n",
    "]\n",
    "\n",
    "\n",
    "best_mse = float('inf')\n",
    "best_r2 = 0\n",
    "best_regressor = None\n",
    "for model_fert in model_fert:\n",
    "    model_fert.fit(x, y_fert)\n",
    "    predictions = model_fert.predict(x)\n",
    "    mse = mean_squared_error(y_fert, predictions)\n",
    "    r2 = r2_score(y_fert, predictions)\n",
    "    if mse < best_mse:\n",
    "        best_mse = mse\n",
    "        best_regressor = model_fert\n",
    "        best_r2 = r2\n",
    "        print(best_regressor, \":\",best_r2)\n",
    "\n",
    "print(\"___________________________________________________________________________________________________________________\")\n",
    "print(f\"Best Regressor: {best_regressor}\")\n",
    "print(f\"Best MSE: {best_mse}\")\n",
    "print(f\"Best R2: {best_r2}\")\n",
    "\n",
    "import pickle\n",
    "with open('model_fert.pkl', 'wb') as file:\n",
    "    pickle.dump(best_regressor, file)"
   ]
  }
 ],
 "metadata": {
  "kernelspec": {
   "display_name": "Python 3",
   "language": "python",
   "name": "python3"
  },
  "language_info": {
   "codemirror_mode": {
    "name": "ipython",
    "version": 3
   },
   "file_extension": ".py",
   "mimetype": "text/x-python",
   "name": "python",
   "nbconvert_exporter": "python",
   "pygments_lexer": "ipython3",
   "version": "3.11.7"
  }
 },
 "nbformat": 4,
 "nbformat_minor": 2
}
